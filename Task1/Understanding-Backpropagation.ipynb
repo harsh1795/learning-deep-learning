{
 "cells": [
  {
   "cell_type": "markdown",
   "metadata": {},
   "source": [
    "### Credit to http://cs231n.github.io/optimization-2/"
   ]
  },
  {
   "cell_type": "markdown",
   "metadata": {},
   "source": [
    "### Imports"
   ]
  },
  {
   "cell_type": "code",
   "execution_count": 3,
   "metadata": {
    "collapsed": true
   },
   "outputs": [],
   "source": [
    "%matplotlib inline\n",
    "from matplotlib import pyplot as plt\n",
    "import numpy as np\n",
    "import math\n",
    "from IPython.display import Image, SVG\n",
    "plt.rcParams['figure.figsize'] = (10.0, 8.0) # set default size of plots\n",
    "plt.rcParams['image.interpolation'] = 'nearest'\n",
    "plt.rcParams['image.cmap'] = 'gray'"
   ]
  },
  {
   "cell_type": "markdown",
   "metadata": {},
   "source": [
    "### A simple neural network - representing sigmoid function (a.k.a Logistic regression)"
   ]
  },
  {
   "cell_type": "markdown",
   "metadata": {},
   "source": [
    "![title](Neural-Network-1.png)"
   ]
  },
  {
   "cell_type": "markdown",
   "metadata": {},
   "source": [
    "### The function that the above neural network represents"
   ]
  },
  {
   "cell_type": "markdown",
   "metadata": {},
   "source": [
    "# $f(w,x) = \\frac{1}{1+e^{-(w_0x_0 + w_1x_1 + w_2)}}$ #"
   ]
  },
  {
   "cell_type": "markdown",
   "metadata": {},
   "source": [
    "### Forwardprop and Backprop through sigmoid"
   ]
  },
  {
   "cell_type": "code",
   "execution_count": 2,
   "metadata": {
    "collapsed": false
   },
   "outputs": [
    {
     "name": "stdout",
     "output_type": "stream",
     "text": [
      "-0.534446645389 -0.534446645389 -0.196611933241 0.196611933241 0.196611933241 0.196611933241 0.196611933241\n",
      "-0.196611933241 -0.393223866483 0.393223866483 -0.589835799724 0.196611933241\n"
     ]
    }
   ],
   "source": [
    "W = [2,-3,-3] # assume some random weights and data\n",
    "X = [-1, -2]\n",
    "\n",
    "# Forward pass\n",
    "dot = W[0]*X[0] + W[1]*X[1]\n",
    "dotplusw2 = dot + W[2]\n",
    "minus_dot = (-1) * dotplusw2\n",
    "exp_dot = math.exp(minus_dot)\n",
    "f = 1.0 / (1 + exp_dot) # sigmoid function\n",
    "\n",
    "# Backprop\n",
    "df = 1\n",
    "dplusone = (-1)*(f*f)\n",
    "dexp = dplusone\n",
    "dminusone = exp_dot * dexp\n",
    "ddotplusw2 = (-1) * dminusone\n",
    "dw2 = ddotplusw2\n",
    "ddot = ddotplusw2\n",
    "dw0x0 = ddot\n",
    "dw1x1 = ddot\n",
    "dw0 = X[0] * dw0x0\n",
    "dx0 = W[0] * dw0x0\n",
    "dw1 = X[1] * dw1x1\n",
    "dx1 = W[1] * dw1x1\n",
    "\n",
    "print dplusone, dexp, dminusone, ddotplusw2, ddot, dw0x0, dw1x1\n",
    "\n",
    "print dw0, dw1, dx0, dx1, dw2"
   ]
  },
  {
   "cell_type": "markdown",
   "metadata": {},
   "source": [
    "# $\\sigma(x) = \\frac{1}{1+e^{-x}}$#\n",
    "# $\\rightarrow \\hspace{0.3in} \\frac{d\\sigma(x)}{dx} = \\frac{e^{-x}}{(1+e^{-x})^2} = \\left( \\frac{1 + e^{-x} - 1}{1 + e^{-x}} \\right) \\left( \\frac{1}{1+e^{-x}} \\right) = \\left( 1 - \\sigma(x) \\right) \\sigma(x)$ #"
   ]
  },
  {
   "cell_type": "markdown",
   "metadata": {},
   "source": [
    "So one could essentially avoid all the individual sigmoid computations and use the above formula"
   ]
  },
  {
   "cell_type": "code",
   "execution_count": 3,
   "metadata": {
    "collapsed": false
   },
   "outputs": [
    {
     "data": {
      "text/plain": [
       "0.19661193324148185"
      ]
     },
     "execution_count": 3,
     "metadata": {},
     "output_type": "execute_result"
    }
   ],
   "source": [
    "(1-f) * f"
   ]
  },
  {
   "cell_type": "code",
   "execution_count": 4,
   "metadata": {
    "collapsed": false
   },
   "outputs": [
    {
     "data": {
      "text/plain": [
       "-2.7755575615628914e-17"
      ]
     },
     "execution_count": 4,
     "metadata": {},
     "output_type": "execute_result"
    }
   ],
   "source": [
    "((1-f) * f) - ddotplusw2"
   ]
  },
  {
   "cell_type": "markdown",
   "metadata": {},
   "source": [
    "### A slightly complex function"
   ]
  },
  {
   "cell_type": "markdown",
   "metadata": {},
   "source": [
    "# $f(x,y) = \\frac{x + \\sigma(y)}{\\sigma(x) + (x+y)^2}$ #"
   ]
  },
  {
   "cell_type": "markdown",
   "metadata": {},
   "source": [
    "### Neural network for the above function (excuse the drawing :D)"
   ]
  },
  {
   "cell_type": "code",
   "execution_count": 4,
   "metadata": {
    "collapsed": false
   },
   "outputs": [
    {
     "data": {
      "image/svg+xml": [
       "<svg height=\"400\" width=\"580\" xmlns=\"http://www.w3.org/2000/svg\">\n",
       " <!-- Created with Method Draw - http://github.com/duopixel/Method-Draw/ -->\n",
       " <g>\n",
       "  <title>background</title>\n",
       "  <rect fill=\"#fff\" height=\"402\" id=\"canvas_background\" width=\"582\" x=\"-1\" y=\"-1\"/>\n",
       "  <g display=\"none\" id=\"canvasGrid\">\n",
       "   <rect fill=\"url(#gridpattern)\" height=\"100%\" id=\"svg_1\" stroke-width=\"0\" width=\"100%\" x=\"0\" y=\"0\"/>\n",
       "  </g>\n",
       " </g>\n",
       " <g>\n",
       "  <defs>\n",
       "   <marker id=\"arrowhead\" markerHeight=\"4\" markerWidth=\"6\" orient=\"auto\" refX=\"6\" refY=\"2\">\n",
       "    <path d=\"m0,0l0,4l6,-2l-6,-2z\" id=\"svg_2\"/>\n",
       "   </marker>\n",
       "  </defs>\n",
       "  <title>Layer 1</title>\n",
       "  <ellipse cx=\"233\" cy=\"107\" fill=\"#fff\" id=\"svg_4\" rx=\"19.5\" ry=\"18.5\" stroke=\"#000\" stroke-width=\"1.5\"/>\n",
       "  <ellipse cx=\"124\" cy=\"173\" fill=\"#fff\" id=\"svg_5\" rx=\"19.5\" ry=\"18.5\" stroke=\"#000\" stroke-width=\"1.5\"/>\n",
       "  <ellipse cx=\"49\" cy=\"184\" fill=\"#fff\" id=\"svg_6\" rx=\"19.5\" ry=\"18.5\" stroke=\"#000\" stroke-width=\"1.5\"/>\n",
       "  <ellipse cx=\"144\" cy=\"91\" fill=\"#fff\" id=\"svg_7\" rx=\"19.5\" ry=\"18.5\" stroke=\"#000\" stroke-width=\"1.5\"/>\n",
       "  <ellipse cx=\"147\" cy=\"266\" fill=\"#fff\" id=\"svg_8\" rx=\"19.5\" ry=\"18.5\" stroke=\"#000\" stroke-width=\"1.5\"/>\n",
       "  <text fill=\"#000000\" fill-opacity=\"null\" font-family=\"Helvetica, Arial, sans-serif\" font-size=\"24\" id=\"svg_9\" stroke=\"#000\" stroke-opacity=\"null\" stroke-width=\"0\" text-anchor=\"start\" x=\"43.5\" xml:space=\"preserve\" y=\"189.5\">y</text>\n",
       "  <text fill=\"#000000\" fill-opacity=\"null\" font-family=\"Helvetica, Arial, sans-serif\" font-size=\"24\" id=\"svg_10\" stroke=\"#000\" stroke-opacity=\"null\" stroke-width=\"0\" text-anchor=\"start\" x=\"118.5\" xml:space=\"preserve\" y=\"178.5\">x</text>\n",
       "  <text fill=\"#000000\" fill-opacity=\"null\" font-family=\"Helvetica, Arial, sans-serif\" font-size=\"24\" id=\"svg_11\" stroke=\"#000\" stroke-opacity=\"null\" stroke-width=\"0\" text-anchor=\"start\" x=\"129.5\" xml:space=\"preserve\" y=\"96.5\">sig</text>\n",
       "  <text fill=\"#000000\" fill-opacity=\"null\" font-family=\"Helvetica, Arial, sans-serif\" font-size=\"24\" id=\"svg_12\" stroke=\"#000\" stroke-opacity=\"null\" stroke-width=\"0\" text-anchor=\"start\" x=\"225.5\" xml:space=\"preserve\" y=\"113.5\">+</text>\n",
       "  <line fill=\"none\" fill-opacity=\"null\" id=\"svg_13\" marker-end=\"url(#arrowhead)\" stroke=\"#000\" stroke-linecap=\"null\" stroke-linejoin=\"null\" stroke-opacity=\"null\" stroke-width=\"1.5\" x1=\"66.5\" x2=\"126.5\" y1=\"176.5\" y2=\"101.5\"/>\n",
       "  <line fill=\"none\" fill-opacity=\"null\" id=\"svg_15\" marker-end=\"url(#arrowhead)\" stroke=\"#000\" stroke-linecap=\"null\" stroke-linejoin=\"null\" stroke-opacity=\"null\" stroke-width=\"1.5\" x1=\"163.5\" x2=\"212.5\" y1=\"95.5\" y2=\"110.5\"/>\n",
       "  <line fill=\"none\" fill-opacity=\"null\" id=\"svg_16\" marker-end=\"url(#arrowhead)\" stroke=\"#000\" stroke-linecap=\"null\" stroke-linejoin=\"null\" stroke-opacity=\"null\" stroke-width=\"1.5\" x1=\"143.500002\" x2=\"212.499998\" y1=\"166.499999\" y2=\"110.500001\"/>\n",
       "  <text fill=\"#000000\" fill-opacity=\"null\" font-family=\"Helvetica, Arial, sans-serif\" font-size=\"24\" id=\"svg_19\" stroke=\"#000\" stroke-opacity=\"null\" stroke-width=\"0\" text-anchor=\"start\" x=\"140.5\" xml:space=\"preserve\" y=\"270.5\">+</text>\n",
       "  <line fill=\"none\" fill-opacity=\"null\" id=\"svg_20\" marker-end=\"url(#arrowhead)\" stroke=\"#000\" stroke-linecap=\"null\" stroke-linejoin=\"null\" stroke-opacity=\"null\" stroke-width=\"1.5\" x1=\"142.5\" x2=\"146.5\" y1=\"168.5\" y2=\"247.5\"/>\n",
       "  <line fill=\"none\" fill-opacity=\"null\" id=\"svg_21\" marker-end=\"url(#arrowhead)\" stroke=\"#000\" stroke-linecap=\"null\" stroke-linejoin=\"null\" stroke-opacity=\"null\" stroke-width=\"1.5\" x1=\"66.5\" x2=\"145.5\" y1=\"173.5\" y2=\"248.5\"/>\n",
       "  <ellipse cx=\"232\" cy=\"166\" fill=\"#fff\" id=\"svg_22\" rx=\"19.5\" ry=\"18.5\" stroke=\"#000\" stroke-width=\"1.5\"/>\n",
       "  <text fill=\"#000000\" fill-opacity=\"null\" font-family=\"Helvetica, Arial, sans-serif\" font-size=\"24\" id=\"svg_23\" stroke=\"#000\" stroke-opacity=\"null\" stroke-width=\"0\" text-anchor=\"start\" x=\"216.5\" xml:space=\"preserve\" y=\"170.5\">sig</text>\n",
       "  <ellipse cx=\"224\" cy=\"266\" fill=\"#fff\" id=\"svg_25\" rx=\"19.5\" ry=\"18.5\" stroke=\"#000\" stroke-width=\"1.5\"/>\n",
       "  <text fill=\"#000000\" fill-opacity=\"null\" font-family=\"Helvetica, Arial, sans-serif\" font-size=\"24\" id=\"svg_26\" stroke=\"#000\" stroke-opacity=\"null\" stroke-width=\"0\" text-anchor=\"start\" x=\"211.5\" xml:space=\"preserve\" y=\"274.5\">^2</text>\n",
       "  <line fill=\"none\" fill-opacity=\"null\" id=\"svg_27\" marker-end=\"url(#arrowhead)\" stroke=\"#000\" stroke-linecap=\"null\" stroke-linejoin=\"null\" stroke-opacity=\"null\" stroke-width=\"1.5\" x1=\"164.499998\" x2=\"205.5\" y1=\"266.5\" y2=\"266.5\"/>\n",
       "  <ellipse cx=\"326\" cy=\"220\" fill=\"#fff\" id=\"svg_28\" rx=\"19.5\" ry=\"18.5\" stroke=\"#000\" stroke-width=\"1.5\"/>\n",
       "  <text fill=\"#000000\" fill-opacity=\"null\" font-family=\"Helvetica, Arial, sans-serif\" font-size=\"24\" id=\"svg_29\" stroke=\"#000\" stroke-opacity=\"null\" stroke-width=\"0\" text-anchor=\"start\" x=\"318.5\" xml:space=\"preserve\" y=\"226.5\">+</text>\n",
       "  <line fill=\"none\" fill-opacity=\"null\" id=\"svg_30\" marker-end=\"url(#arrowhead)\" stroke=\"#000\" stroke-linecap=\"null\" stroke-linejoin=\"null\" stroke-opacity=\"null\" stroke-width=\"1.5\" x1=\"244.5\" x2=\"306.5\" y1=\"263.5\" y2=\"222.5\"/>\n",
       "  <line fill=\"none\" fill-opacity=\"null\" id=\"svg_31\" marker-end=\"url(#arrowhead)\" stroke=\"#000\" stroke-linecap=\"null\" stroke-linejoin=\"null\" stroke-opacity=\"null\" stroke-width=\"1.5\" x1=\"250.5\" x2=\"306.5\" y1=\"169.5\" y2=\"220.5\"/>\n",
       "  <ellipse cx=\"388\" cy=\"218\" fill=\"#fff\" id=\"svg_32\" rx=\"19.5\" ry=\"18.5\" stroke=\"#000\" stroke-width=\"1.5\"/>\n",
       "  <text fill=\"#000000\" fill-opacity=\"null\" font-family=\"Helvetica, Arial, sans-serif\" font-size=\"24\" id=\"svg_33\" stroke=\"#000\" stroke-opacity=\"null\" stroke-width=\"0\" text-anchor=\"start\" x=\"371.5\" xml:space=\"preserve\" y=\"225.5\">1/x</text>\n",
       "  <line fill=\"none\" fill-opacity=\"null\" id=\"svg_34\" marker-end=\"url(#arrowhead)\" stroke=\"#000\" stroke-linecap=\"null\" stroke-linejoin=\"null\" stroke-opacity=\"null\" stroke-width=\"1.5\" x1=\"344.5\" x2=\"368.5\" y1=\"219.5\" y2=\"218.5\"/>\n",
       "  <ellipse cx=\"448\" cy=\"157\" fill=\"#fff\" id=\"svg_35\" rx=\"19.5\" ry=\"18.5\" stroke=\"#000\" stroke-width=\"1.5\"/>\n",
       "  <text fill=\"#000000\" fill-opacity=\"null\" font-family=\"Helvetica, Arial, sans-serif\" font-size=\"57\" id=\"svg_36\" stroke=\"#000\" stroke-opacity=\"null\" stroke-width=\"0\" text-anchor=\"start\" x=\"436.5\" xml:space=\"preserve\" y=\"189.5\">*</text>\n",
       "  <line fill=\"none\" fill-opacity=\"null\" id=\"svg_37\" marker-end=\"url(#arrowhead)\" stroke=\"#000\" stroke-linecap=\"null\" stroke-linejoin=\"null\" stroke-opacity=\"null\" stroke-width=\"1.5\" x1=\"251.5\" x2=\"430.5\" y1=\"106.5\" y2=\"157.5\"/>\n",
       "  <line fill=\"none\" fill-opacity=\"null\" id=\"svg_38\" marker-end=\"url(#arrowhead)\" stroke=\"#000\" stroke-linecap=\"null\" stroke-linejoin=\"null\" stroke-opacity=\"null\" stroke-width=\"1.5\" x1=\"408.5\" x2=\"427.5\" y1=\"215.5\" y2=\"155.5\"/>\n",
       "  <line fill=\"none\" fill-opacity=\"null\" id=\"svg_39\" marker-end=\"url(#arrowhead)\" stroke=\"#000\" stroke-linecap=\"null\" stroke-linejoin=\"null\" stroke-opacity=\"null\" stroke-width=\"1.5\" x1=\"466.5\" x2=\"520.5\" y1=\"155.5\" y2=\"155.5\"/>\n",
       "  <text fill=\"#000000\" fill-opacity=\"null\" font-family=\"Helvetica, Arial, sans-serif\" font-size=\"24\" id=\"svg_40\" stroke=\"#000\" stroke-opacity=\"null\" stroke-width=\"0\" text-anchor=\"start\" x=\"491.5\" xml:space=\"preserve\" y=\"146.5\">f</text>\n",
       "  <line fill=\"none\" fill-opacity=\"null\" id=\"svg_14\" marker-end=\"url(#arrowhead)\" stroke=\"#000\" stroke-linecap=\"null\" stroke-linejoin=\"null\" stroke-opacity=\"null\" stroke-width=\"1.5\" transform=\"rotate(-85 179,167) \" x1=\"176.694955\" x2=\"181.305045\" y1=\"130.986681\" y2=\"203.013318\"/>\n",
       " </g>\n",
       "</svg>"
      ],
      "text/plain": [
       "<IPython.core.display.SVG object>"
      ]
     },
     "execution_count": 4,
     "metadata": {},
     "output_type": "execute_result"
    }
   ],
   "source": [
    "SVG(\"Neural-Network-2.svg\")"
   ]
  },
  {
   "cell_type": "markdown",
   "metadata": {},
   "source": [
    "### Forward and backprop through the above neural network"
   ]
  },
  {
   "cell_type": "code",
   "execution_count": 5,
   "metadata": {
    "collapsed": false
   },
   "outputs": [
    {
     "name": "stdout",
     "output_type": "stream",
     "text": [
      "2.05956979557 1.59223275148\n"
     ]
    }
   ],
   "source": [
    "x = 3 # example values\n",
    "y = -4\n",
    "\n",
    "# forward pass\n",
    "sigy = 1.0 / (1 + math.exp(-y)) # sigmoid in numerator   #(1)\n",
    "num = x + sigy # numerator                               #(2)\n",
    "sigx = 1.0 / (1 + math.exp(-x)) # sigmoid in denominator #(3)\n",
    "xpy = x + y                                              #(4)\n",
    "xpysqr = xpy**2                                          #(5)\n",
    "den = sigx + xpysqr # denominator                        #(6)\n",
    "invden = 1.0 / den                                       #(7)\n",
    "f = num * invden # done!                                 #(8)\n",
    "\n",
    "# backprop f = num * invden\n",
    "dnum = invden # gradient on numerator                             #(8)\n",
    "dinvden = num                                                     #(8)\n",
    "# backprop invden = 1.0 / den \n",
    "dden = (-1.0 / (den**2)) * dinvden                                #(7)\n",
    "# backprop den = sigx + xpysqr\n",
    "dsigx = (1) * dden                                                #(6)\n",
    "dxpysqr = (1) * dden                                              #(6)\n",
    "# backprop xpysqr = xpy**2\n",
    "dxpy = (2 * xpy) * dxpysqr                                        #(5)\n",
    "# backprop xpy = x + y\n",
    "dx = (1) * dxpy                                                   #(4)\n",
    "dy = (1) * dxpy                                                   #(4)\n",
    "# backprop sigx = 1.0 / (1 + math.exp(-x))\n",
    "dx += ((1 - sigx) * sigx) * dsigx # Gradients add up at forks  #(3)\n",
    "# backprop num = x + sigy\n",
    "dx += (1) * dnum # Gradients add up at forks                                                 #(2)\n",
    "dsigy = (1) * dnum                                                #(2)\n",
    "# backprop sigy = 1.0 / (1 + math.exp(-y))\n",
    "dy += ((1 - sigy) * sigy) * dsigy # Gradients add up at forks\n",
    "\n",
    "print dx, dy"
   ]
  }
 ],
 "metadata": {
  "kernelspec": {
   "display_name": "Python 2",
   "language": "python",
   "name": "python2"
  },
  "language_info": {
   "codemirror_mode": {
    "name": "ipython",
    "version": 2
   },
   "file_extension": ".py",
   "mimetype": "text/x-python",
   "name": "python",
   "nbconvert_exporter": "python",
   "pygments_lexer": "ipython2",
   "version": "2.7.10"
  }
 },
 "nbformat": 4,
 "nbformat_minor": 1
}
