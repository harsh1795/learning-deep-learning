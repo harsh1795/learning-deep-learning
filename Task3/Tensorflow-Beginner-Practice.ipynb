{
 "cells": [
  {
   "cell_type": "markdown",
   "metadata": {},
   "source": [
    "### Testing out basics"
   ]
  },
  {
   "cell_type": "code",
   "execution_count": 1,
   "metadata": {
    "collapsed": true
   },
   "outputs": [],
   "source": [
    "import tensorflow as tf"
   ]
  },
  {
   "cell_type": "code",
   "execution_count": 2,
   "metadata": {
    "collapsed": false
   },
   "outputs": [],
   "source": [
    "interactive_session = tf.InteractiveSession()"
   ]
  },
  {
   "cell_type": "code",
   "execution_count": 3,
   "metadata": {
    "collapsed": true
   },
   "outputs": [],
   "source": [
    "a = tf.zeros((2,2))\n",
    "b = tf.ones((2,2))"
   ]
  },
  {
   "cell_type": "code",
   "execution_count": 4,
   "metadata": {
    "collapsed": false
   },
   "outputs": [
    {
     "data": {
      "text/plain": [
       "<tf.Tensor 'Sum:0' shape=(2,) dtype=float32>"
      ]
     },
     "execution_count": 4,
     "metadata": {},
     "output_type": "execute_result"
    }
   ],
   "source": [
    "tf.reduce_sum(b, reduction_indices=1)"
   ]
  },
  {
   "cell_type": "code",
   "execution_count": 5,
   "metadata": {
    "collapsed": false
   },
   "outputs": [
    {
     "data": {
      "text/plain": [
       "array([ 2.,  2.], dtype=float32)"
      ]
     },
     "execution_count": 5,
     "metadata": {},
     "output_type": "execute_result"
    }
   ],
   "source": [
    "tf.reduce_sum(b, reduction_indices=1).eval()"
   ]
  },
  {
   "cell_type": "code",
   "execution_count": 6,
   "metadata": {
    "collapsed": false
   },
   "outputs": [
    {
     "data": {
      "text/plain": [
       "TensorShape([Dimension(2), Dimension(2)])"
      ]
     },
     "execution_count": 6,
     "metadata": {},
     "output_type": "execute_result"
    }
   ],
   "source": [
    "a.get_shape()"
   ]
  },
  {
   "cell_type": "code",
   "execution_count": 7,
   "metadata": {
    "collapsed": false
   },
   "outputs": [
    {
     "data": {
      "text/plain": [
       "array([[ 0.,  0.],\n",
       "       [ 0.,  0.]], dtype=float32)"
      ]
     },
     "execution_count": 7,
     "metadata": {},
     "output_type": "execute_result"
    }
   ],
   "source": [
    "a.eval()"
   ]
  },
  {
   "cell_type": "code",
   "execution_count": 8,
   "metadata": {
    "collapsed": false
   },
   "outputs": [
    {
     "data": {
      "text/plain": [
       "array([[ 0.,  0.,  0.,  0.]], dtype=float32)"
      ]
     },
     "execution_count": 8,
     "metadata": {},
     "output_type": "execute_result"
    }
   ],
   "source": [
    "tf.reshape(a, (1,4)).eval()"
   ]
  },
  {
   "cell_type": "code",
   "execution_count": 9,
   "metadata": {
    "collapsed": false
   },
   "outputs": [
    {
     "data": {
      "text/plain": [
       "array([[ 0.],\n",
       "       [ 0.],\n",
       "       [ 0.],\n",
       "       [ 0.]], dtype=float32)"
      ]
     },
     "execution_count": 9,
     "metadata": {},
     "output_type": "execute_result"
    }
   ],
   "source": [
    "tf.reshape(a, (4,1)).eval()"
   ]
  },
  {
   "cell_type": "code",
   "execution_count": 10,
   "metadata": {
    "collapsed": false
   },
   "outputs": [
    {
     "data": {
      "text/plain": [
       "array([[ 0.,  0.],\n",
       "       [ 0.,  0.]], dtype=float32)"
      ]
     },
     "execution_count": 10,
     "metadata": {},
     "output_type": "execute_result"
    }
   ],
   "source": [
    "tf.matmul(a,b).eval()"
   ]
  },
  {
   "cell_type": "code",
   "execution_count": 11,
   "metadata": {
    "collapsed": false
   },
   "outputs": [
    {
     "data": {
      "text/plain": [
       "<tf.Tensor 'ones:0' shape=(2, 2) dtype=float32>"
      ]
     },
     "execution_count": 11,
     "metadata": {},
     "output_type": "execute_result"
    }
   ],
   "source": [
    "b"
   ]
  },
  {
   "cell_type": "code",
   "execution_count": 12,
   "metadata": {
    "collapsed": false
   },
   "outputs": [
    {
     "name": "stdout",
     "output_type": "stream",
     "text": [
      "Tensor(\"ones:0\", shape=(2, 2), dtype=float32)\n"
     ]
    }
   ],
   "source": [
    "print(b)"
   ]
  },
  {
   "cell_type": "code",
   "execution_count": 13,
   "metadata": {
    "collapsed": true
   },
   "outputs": [],
   "source": [
    "weights = tf.Variable(tf.zeros((2,2)), name=\"weights\")"
   ]
  },
  {
   "cell_type": "code",
   "execution_count": 14,
   "metadata": {
    "collapsed": false
   },
   "outputs": [],
   "source": [
    "#weights.eval() - throws exception due to uninitialization"
   ]
  },
  {
   "cell_type": "code",
   "execution_count": 15,
   "metadata": {
    "collapsed": false
   },
   "outputs": [
    {
     "data": {
      "text/plain": [
       "<tensorflow.python.framework.ops.Operation at 0x7ff500051b50>"
      ]
     },
     "execution_count": 15,
     "metadata": {},
     "output_type": "execute_result"
    }
   ],
   "source": [
    "tf.initialize_all_variables()"
   ]
  },
  {
   "cell_type": "code",
   "execution_count": 16,
   "metadata": {
    "collapsed": false
   },
   "outputs": [
    {
     "name": "stdout",
     "output_type": "stream",
     "text": [
      "[[ 0.  0.]\n",
      " [ 0.  0.]]\n"
     ]
    }
   ],
   "source": [
    "with tf.Session() as sess:\n",
    "    sess.run(tf.initialize_all_variables())\n",
    "    weights.eval()\n",
    "    print sess.run(weights)"
   ]
  },
  {
   "cell_type": "code",
   "execution_count": 17,
   "metadata": {
    "collapsed": false
   },
   "outputs": [
    {
     "name": "stdout",
     "output_type": "stream",
     "text": [
      "1\n",
      "2\n",
      "3\n"
     ]
    }
   ],
   "source": [
    "d = tf.Variable(0, name=\"Counter\")\n",
    "add_one = tf.add(d,1)\n",
    "update_d = tf.assign(d, add_one)\n",
    "with tf.Session() as sess:\n",
    "    sess.run(tf.initialize_all_variables())\n",
    "    for i in range(3):\n",
    "        sess.run(update_d)\n",
    "        print(sess.run(d))"
   ]
  },
  {
   "cell_type": "code",
   "execution_count": 18,
   "metadata": {
    "collapsed": false
   },
   "outputs": [
    {
     "data": {
      "text/plain": [
       "<tf.Tensor 'Add:0' shape=() dtype=int32>"
      ]
     },
     "execution_count": 18,
     "metadata": {},
     "output_type": "execute_result"
    }
   ],
   "source": [
    "add_one"
   ]
  },
  {
   "cell_type": "markdown",
   "metadata": {},
   "source": [
    "### Linear Regression"
   ]
  },
  {
   "cell_type": "code",
   "execution_count": 19,
   "metadata": {
    "collapsed": true
   },
   "outputs": [],
   "source": [
    "import numpy as np\n",
    "%matplotlib inline"
   ]
  },
  {
   "cell_type": "code",
   "execution_count": 20,
   "metadata": {
    "collapsed": true
   },
   "outputs": [],
   "source": [
    "from matplotlib import pyplot as plt"
   ]
  },
  {
   "cell_type": "code",
   "execution_count": 21,
   "metadata": {
    "collapsed": false
   },
   "outputs": [],
   "source": [
    "import seaborn"
   ]
  },
  {
   "cell_type": "code",
   "execution_count": 22,
   "metadata": {
    "collapsed": false
   },
   "outputs": [
    {
     "data": {
      "text/plain": [
       "<matplotlib.collections.PathCollection at 0x7ff47d2c9590>"
      ]
     },
     "execution_count": 22,
     "metadata": {},
     "output_type": "execute_result"
    },
    {
     "data": {
      "image/png": "[encoded data removed]",
      "text/plain": [
       "<matplotlib.figure.Figure at 0x7ff47f562c90>"
      ]
     },
     "metadata": {},
     "output_type": "display_data"
    }
   ],
   "source": [
    "x = np.arange(0,100,0.1)\n",
    "y = x + 20 * np.sin(x/10)\n",
    "plt.scatter(x, y)"
   ]
  },
  {
   "cell_type": "code",
   "execution_count": 23,
   "metadata": {
    "collapsed": true
   },
   "outputs": [],
   "source": [
    "n_samples = 1000\n",
    "batch_size = 100"
   ]
  },
  {
   "cell_type": "code",
   "execution_count": 24,
   "metadata": {
    "collapsed": true
   },
   "outputs": [],
   "source": [
    "x_data = np.reshape(x, (n_samples,1))\n",
    "y_data = np.reshape(y, (n_samples, 1))"
   ]
  },
  {
   "cell_type": "code",
   "execution_count": 25,
   "metadata": {
    "collapsed": true
   },
   "outputs": [],
   "source": [
    "x_input = tf.placeholder(tf.float32, shape=(batch_size, 1))\n",
    "y_input = tf.placeholder(tf.float32, shape=(batch_size, 1))"
   ]
  },
  {
   "cell_type": "code",
   "execution_count": 26,
   "metadata": {
    "collapsed": false
   },
   "outputs": [],
   "source": [
    "with tf.variable_scope(\"linear_regression\"):\n",
    "    W = tf.get_variable(\"weights\", (1,1), initializer=tf.random_normal_initializer())\n",
    "    b = tf.get_variable(\"bias\", (1,), initializer=tf.constant_initializer(0.0))\n",
    "    y_pred = tf.matmul(x_input,W) + b\n",
    "    loss = tf.reduce_sum((y - y_pred)**2)/n_samples"
   ]
  },
  {
   "cell_type": "code",
   "execution_count": 27,
   "metadata": {
    "collapsed": true
   },
   "outputs": [],
   "source": [
    "opt = tf.train.AdamOptimizer()\n",
    "opt_operation = opt.minimize(loss)"
   ]
  },
  {
   "cell_type": "code",
   "execution_count": 28,
   "metadata": {
    "collapsed": true
   },
   "outputs": [],
   "source": [
    "if 'session' in locals() and interactive_session is not None:\n",
    "    print('Close interactive session')\n",
    "    interactive_session.close()"
   ]
  },
  {
   "cell_type": "code",
   "execution_count": 29,
   "metadata": {
    "collapsed": false
   },
   "outputs": [
    {
     "name": "stdout",
     "output_type": "stream",
     "text": [
      "2.25614e+06\n",
      "2.43183e+06\n",
      "2.31179e+06\n",
      "2.16133e+06\n",
      "2.54426e+06\n",
      "2.35845e+06\n",
      "2.39975e+06\n",
      "2.1677e+06\n",
      "2.25646e+06\n",
      "2.42176e+06\n",
      "2.37617e+06\n",
      "2.43084e+06\n",
      "2.60132e+06\n",
      "2.44399e+06\n",
      "2.36708e+06\n",
      "2.22893e+06\n",
      "2.1983e+06\n",
      "2.29019e+06\n",
      "2.32304e+06\n",
      "2.34377e+06\n",
      "2.4913e+06\n",
      "2.31421e+06\n",
      "2.31149e+06\n",
      "2.26452e+06\n",
      "2.54935e+06\n",
      "2.23671e+06\n",
      "2.35057e+06\n",
      "2.43478e+06\n",
      "2.205e+06\n",
      "2.22286e+06\n",
      "2.1635e+06\n",
      "2.28358e+06\n",
      "2.47716e+06\n",
      "1.98313e+06\n",
      "2.46643e+06\n",
      "2.18862e+06\n",
      "2.15147e+06\n",
      "2.40125e+06\n",
      "2.63574e+06\n",
      "2.39022e+06\n",
      "2.23217e+06\n",
      "2.29198e+06\n",
      "2.16732e+06\n",
      "2.50349e+06\n",
      "2.10509e+06\n",
      "2.38082e+06\n",
      "2.35742e+06\n",
      "2.19042e+06\n",
      "2.09911e+06\n",
      "2.17594e+06\n",
      "2.37786e+06\n",
      "2.24528e+06\n",
      "2.25904e+06\n",
      "1.99264e+06\n",
      "2.31908e+06\n",
      "2.25577e+06\n",
      "2.14531e+06\n",
      "2.12874e+06\n",
      "2.42401e+06\n",
      "2.32386e+06\n",
      "2.37008e+06\n",
      "2.23923e+06\n",
      "2.25091e+06\n",
      "2.41755e+06\n",
      "2.11321e+06\n",
      "2.13969e+06\n",
      "2.28334e+06\n",
      "2.43771e+06\n",
      "2.40326e+06\n",
      "2.09848e+06\n",
      "2.18583e+06\n",
      "2.16114e+06\n",
      "2.37793e+06\n",
      "2.22876e+06\n",
      "2.18223e+06\n",
      "2.25421e+06\n",
      "2.30217e+06\n",
      "2.36085e+06\n",
      "2.50623e+06\n",
      "2.21176e+06\n",
      "2.14829e+06\n",
      "2.43469e+06\n",
      "1.98888e+06\n",
      "2.40416e+06\n",
      "2.23203e+06\n",
      "2.27157e+06\n",
      "2.27616e+06\n",
      "2.20703e+06\n",
      "2.29333e+06\n",
      "2.21749e+06\n",
      "2.58785e+06\n",
      "2.27777e+06\n",
      "2.36099e+06\n",
      "2.44879e+06\n",
      "2.07239e+06\n",
      "2.09787e+06\n",
      "2.06752e+06\n",
      "2.0778e+06\n",
      "2.0859e+06\n",
      "2.05987e+06\n",
      "2.17779e+06\n",
      "2.22998e+06\n",
      "2.31492e+06\n",
      "2.1862e+06\n",
      "2.24129e+06\n",
      "2.05166e+06\n",
      "2.13432e+06\n",
      "2.39354e+06\n",
      "2.10333e+06\n",
      "1.89049e+06\n",
      "2.1422e+06\n",
      "2.18068e+06\n",
      "2.19646e+06\n",
      "2.29694e+06\n",
      "2.20959e+06\n",
      "2.26419e+06\n",
      "2.53305e+06\n",
      "2.24068e+06\n",
      "2.1364e+06\n",
      "1.96638e+06\n",
      "2.24959e+06\n",
      "2.01117e+06\n",
      "2.52258e+06\n",
      "2.01816e+06\n",
      "2.22046e+06\n",
      "2.11363e+06\n",
      "2.11237e+06\n",
      "2.20121e+06\n",
      "2.23086e+06\n",
      "1.99477e+06\n",
      "2.24162e+06\n",
      "1.93353e+06\n",
      "2.25909e+06\n",
      "2.31406e+06\n",
      "2.14398e+06\n",
      "2.1406e+06\n",
      "2.22138e+06\n",
      "1.93684e+06\n",
      "2.05599e+06\n",
      "1.98393e+06\n",
      "2.20562e+06\n",
      "2.00847e+06\n",
      "2.39587e+06\n",
      "2.09508e+06\n",
      "2.02461e+06\n",
      "2.1225e+06\n",
      "2.26899e+06\n",
      "2.25132e+06\n",
      "2.24356e+06\n",
      "1.94763e+06\n",
      "2.15038e+06\n",
      "2.18772e+06\n",
      "2.14355e+06\n",
      "2.10506e+06\n",
      "2.17178e+06\n",
      "2.19175e+06\n",
      "2.19775e+06\n",
      "2.1847e+06\n",
      "2.21731e+06\n",
      "2.05375e+06\n",
      "2.06044e+06\n",
      "2.05295e+06\n",
      "2.04229e+06\n",
      "2.31391e+06\n",
      "1.97896e+06\n",
      "2.01516e+06\n",
      "1.89489e+06\n",
      "1.99276e+06\n",
      "1.96978e+06\n",
      "2.41676e+06\n",
      "2.10562e+06\n",
      "2.06967e+06\n",
      "2.26471e+06\n",
      "2.01519e+06\n",
      "2.21545e+06\n",
      "2.00595e+06\n",
      "1.9697e+06\n",
      "2.05301e+06\n",
      "1.97384e+06\n",
      "2.14254e+06\n",
      "2.20974e+06\n",
      "2.01116e+06\n",
      "2.16271e+06\n",
      "2.15502e+06\n",
      "1.83303e+06\n",
      "2.21899e+06\n",
      "1.84089e+06\n",
      "2.0579e+06\n",
      "1.96048e+06\n",
      "2.05482e+06\n",
      "2.00343e+06\n",
      "1.92695e+06\n",
      "2.00567e+06\n",
      "1.91174e+06\n",
      "2.1585e+06\n",
      "1.77096e+06\n",
      "1.95128e+06\n",
      "1.98419e+06\n",
      "2.01649e+06\n",
      "2.01482e+06\n",
      "2.06095e+06\n",
      "1.94039e+06\n",
      "2.09409e+06\n",
      "1.83339e+06\n",
      "2.316e+06\n",
      "2.02485e+06\n",
      "1.93106e+06\n",
      "2.21034e+06\n",
      "2.18385e+06\n",
      "2.17211e+06\n",
      "2.00824e+06\n",
      "2.05121e+06\n",
      "1.92578e+06\n",
      "1.89011e+06\n",
      "1.96128e+06\n",
      "2.10993e+06\n",
      "1.95284e+06\n",
      "1.97745e+06\n",
      "1.91478e+06\n",
      "1.89365e+06\n",
      "2.16375e+06\n",
      "2.12979e+06\n",
      "2.03724e+06\n",
      "2.09712e+06\n",
      "1.72613e+06\n",
      "2.10846e+06\n",
      "2.11904e+06\n",
      "1.948e+06\n",
      "2.02451e+06\n",
      "1.81043e+06\n",
      "1.86072e+06\n",
      "2.02043e+06\n",
      "2.16489e+06\n",
      "1.9269e+06\n",
      "2.21788e+06\n",
      "1.96544e+06\n",
      "1.9333e+06\n",
      "2.08736e+06\n",
      "2.01953e+06\n",
      "1.96375e+06\n",
      "2.07949e+06\n",
      "1.90033e+06\n",
      "1.85397e+06\n",
      "1.81195e+06\n",
      "2.03793e+06\n",
      "2.00546e+06\n",
      "2.06524e+06\n",
      "1.9061e+06\n",
      "2.01634e+06\n",
      "1.84958e+06\n",
      "1.91682e+06\n",
      "2.12577e+06\n",
      "1.94529e+06\n",
      "2.01208e+06\n",
      "1.85676e+06\n",
      "1.88109e+06\n",
      "1.8846e+06\n",
      "1.95878e+06\n",
      "1.86846e+06\n",
      "2.0202e+06\n",
      "1.94568e+06\n",
      "1.97567e+06\n",
      "1.95601e+06\n",
      "1.87193e+06\n",
      "2.03693e+06\n",
      "1.66641e+06\n",
      "1.82568e+06\n",
      "1.86975e+06\n",
      "2.06113e+06\n",
      "1.83814e+06\n",
      "1.80009e+06\n",
      "1.82125e+06\n",
      "1.84622e+06\n",
      "1.91394e+06\n",
      "2.03654e+06\n",
      "1.9048e+06\n",
      "2.08284e+06\n",
      "1.98599e+06\n",
      "1.78153e+06\n",
      "1.8436e+06\n",
      "1.89547e+06\n",
      "2.26996e+06\n",
      "1.92931e+06\n",
      "2.02713e+06\n",
      "2.19537e+06\n",
      "1.76284e+06\n",
      "1.99358e+06\n",
      "1.64292e+06\n",
      "1.7837e+06\n",
      "1.94135e+06\n",
      "1.68807e+06\n",
      "1.87227e+06\n",
      "2.02543e+06\n",
      "1.87374e+06\n",
      "2.07681e+06\n",
      "2.04221e+06\n",
      "2.05031e+06\n",
      "1.86743e+06\n",
      "1.93306e+06\n",
      "1.80954e+06\n",
      "1.69309e+06\n",
      "1.99876e+06\n",
      "1.73244e+06\n",
      "1.74135e+06\n",
      "1.91624e+06\n",
      "2.0926e+06\n",
      "1.80757e+06\n",
      "2.00978e+06\n",
      "1.72931e+06\n",
      "1.76419e+06\n",
      "1.90187e+06\n",
      "1.96696e+06\n",
      "1.83468e+06\n",
      "1.75355e+06\n",
      "1.6695e+06\n",
      "1.89424e+06\n",
      "1.8585e+06\n",
      "2.06588e+06\n",
      "1.81253e+06\n",
      "1.74599e+06\n",
      "1.84886e+06\n",
      "1.96784e+06\n",
      "1.89357e+06\n",
      "1.94487e+06\n",
      "1.75876e+06\n",
      "1.65248e+06\n",
      "1.77267e+06\n",
      "1.60278e+06\n",
      "1.79852e+06\n",
      "1.97353e+06\n",
      "1.71115e+06\n",
      "1.849e+06\n",
      "1.91462e+06\n",
      "1.88385e+06\n",
      "2.00161e+06\n",
      "1.79726e+06\n",
      "1.91972e+06\n",
      "1.78144e+06\n",
      "1.78448e+06\n",
      "1.91225e+06\n",
      "1.79337e+06\n",
      "1.85673e+06\n",
      "1.89331e+06\n",
      "1.72505e+06\n",
      "1.97252e+06\n",
      "1.81042e+06\n",
      "1.74078e+06\n",
      "1.6816e+06\n",
      "1.85483e+06\n",
      "1.65616e+06\n",
      "1.93177e+06\n",
      "1.77377e+06\n",
      "1.6367e+06\n",
      "1.81177e+06\n",
      "1.75343e+06\n",
      "1.8101e+06\n",
      "1.58939e+06\n",
      "1.62266e+06\n",
      "1.89291e+06\n",
      "1.83072e+06\n",
      "1.9542e+06\n",
      "1.72349e+06\n",
      "1.77785e+06\n",
      "1.75284e+06\n",
      "1.7304e+06\n",
      "1.91349e+06\n",
      "1.75855e+06\n",
      "1.58313e+06\n",
      "1.71256e+06\n",
      "1.86418e+06\n",
      "1.86264e+06\n",
      "1.89268e+06\n",
      "1.99144e+06\n",
      "1.73327e+06\n",
      "1.87112e+06\n",
      "1.67488e+06\n",
      "1.86644e+06\n",
      "1.91273e+06\n",
      "1.72277e+06\n",
      "1.73226e+06\n",
      "1.75132e+06\n",
      "1.81514e+06\n",
      "1.64353e+06\n",
      "1.60016e+06\n",
      "1.71197e+06\n",
      "1.77534e+06\n",
      "1.83148e+06\n",
      "1.93861e+06\n",
      "1.78132e+06\n",
      "1.75223e+06\n",
      "1.90546e+06\n",
      "1.72876e+06\n",
      "1.85251e+06\n",
      "1.5776e+06\n",
      "1.63816e+06\n",
      "1.77009e+06\n",
      "1.80358e+06\n",
      "1.60131e+06\n",
      "1.69186e+06\n",
      "1.6854e+06\n",
      "1.66458e+06\n",
      "1.80586e+06\n",
      "1.58416e+06\n",
      "1.73365e+06\n",
      "1.89232e+06\n",
      "1.59774e+06\n",
      "1.65748e+06\n",
      "1.62077e+06\n",
      "1.68111e+06\n",
      "1.71427e+06\n",
      "1.73181e+06\n",
      "1.86657e+06\n",
      "1.84007e+06\n",
      "1.71243e+06\n",
      "1.89197e+06\n",
      "1.75037e+06\n",
      "1.71707e+06\n",
      "1.65104e+06\n",
      "1.72606e+06\n",
      "1.6638e+06\n",
      "1.55797e+06\n",
      "1.69882e+06\n",
      "1.7289e+06\n",
      "1.4616e+06\n",
      "1.71243e+06\n",
      "1.87739e+06\n",
      "1.7327e+06\n",
      "1.82912e+06\n",
      "1.88278e+06\n",
      "1.67932e+06\n",
      "1.80275e+06\n",
      "1.75748e+06\n",
      "1.68215e+06\n",
      "1.68128e+06\n",
      "1.74823e+06\n",
      "1.64172e+06\n",
      "1.65909e+06\n",
      "1.85571e+06\n",
      "1.54681e+06\n",
      "1.77809e+06\n",
      "1.60919e+06\n",
      "1.73291e+06\n",
      "1.60452e+06\n",
      "1.75187e+06\n",
      "1.55642e+06\n",
      "1.64758e+06\n",
      "1.61989e+06\n",
      "1.73654e+06\n",
      "1.7267e+06\n",
      "1.52507e+06\n",
      "1.77411e+06\n",
      "1.5798e+06\n",
      "1.77472e+06\n",
      "1.67358e+06\n",
      "1.76103e+06\n",
      "1.59341e+06\n",
      "1.70558e+06\n",
      "1.76767e+06\n",
      "1.66647e+06\n",
      "1.58562e+06\n",
      "1.74169e+06\n",
      "1.68596e+06\n",
      "1.80671e+06\n",
      "1.63187e+06\n",
      "1.56945e+06\n",
      "1.68745e+06\n",
      "1.56728e+06\n",
      "1.59083e+06\n",
      "1.69317e+06\n",
      "1.75207e+06\n",
      "1.77906e+06\n",
      "1.7286e+06\n",
      "1.81511e+06\n",
      "1.61291e+06\n",
      "1.79015e+06\n",
      "1.80175e+06\n",
      "1.75647e+06\n",
      "1.57833e+06\n",
      "1.51464e+06\n",
      "1.66931e+06\n",
      "1.49117e+06\n",
      "1.58909e+06\n",
      "1.61494e+06\n",
      "1.51524e+06\n",
      "1.57864e+06\n",
      "1.52599e+06\n",
      "1.76529e+06\n",
      "1.66485e+06\n",
      "1.59218e+06\n",
      "1.62364e+06\n",
      "1.5007e+06\n",
      "1.55731e+06\n",
      "1.52107e+06\n",
      "1.6285e+06\n",
      "1.566e+06\n",
      "1.73527e+06\n",
      "1.45545e+06\n",
      "1.55773e+06\n",
      "1.56766e+06\n",
      "1.58881e+06\n"
     ]
    }
   ],
   "source": [
    "with tf.Session() as sess:\n",
    "    sess.run(tf.initialize_all_variables())\n",
    "    for _ in range(500):\n",
    "        # select random mini-batch\n",
    "        indices = np.random.choice(n_samples, batch_size)\n",
    "        x_batch = x_data[indices]\n",
    "        y_batch = y_data[indices]\n",
    "        _, loss_val = sess.run([opt_operation, loss], feed_dict={x_input: x_batch, y_input: y_batch})\n",
    "        print(loss_val)"
   ]
  }
 ],
 "metadata": {
  "kernelspec": {
   "display_name": "Python 2",
   "language": "python",
   "name": "python2"
  },
  "language_info": {
   "codemirror_mode": {
    "name": "ipython",
    "version": 2
   },
   "file_extension": ".py",
   "mimetype": "text/x-python",
   "name": "python",
   "nbconvert_exporter": "python",
   "pygments_lexer": "ipython2",
   "version": "2.7.12"
  }
 },
 "nbformat": 4,
 "nbformat_minor": 1
}
